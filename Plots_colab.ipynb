{
 "cells": [
  {
   "cell_type": "code",
   "execution_count": 1,
   "id": "daee7cae",
   "metadata": {},
   "outputs": [],
   "source": [
    "# Uncomment the commands below to install on colab if necessary (with magic commands)\n",
    "#!apt-get install vtk python-vtk\n",
    "%pip install pyvista\n",
    "%pip install itkwidgets\n",
    "%pip uninstall matplotlib\n",
    "%pip install matplotlib==3.1.3"
   ]
  },
  {
   "cell_type": "code",
   "execution_count": 1,
   "id": "9b424231",
   "metadata": {},
   "outputs": [],
   "source": [
    "import numpy as np\n",
    "import matplotlib.pyplot as plt\n",
    "import pyvista as pv\n",
    "from itkwidgets import view\n",
    "import vtk"
   ]
  },
  {
   "cell_type": "code",
   "execution_count": 2,
   "id": "1c5e3f04",
   "metadata": {},
   "outputs": [],
   "source": [
    "# uncomment if this notebook is run in colab to enable external widgets:\n",
    "from google.colab import output\n",
    "output.enable_custom_widget_manager()\n",
    "# uncomment to mount google drive (and access own files stored there)\n",
    "from google.colab import drive\n",
    "drive.mount('/content/drive')"
   ]
  },
  {
   "cell_type": "code",
   "execution_count": 3,
   "id": "8893a5b8",
   "metadata": {},
   "outputs": [
    {
     "data": {
      "application/vnd.jupyter.widget-view+json": {
       "model_id": "5a252bef24d24d8a8c1eb2220d88f910",
       "version_major": 2,
       "version_minor": 0
      },
      "text/plain": [
       "Viewer(geometries=[{'vtkClass': 'vtkPolyData', 'points': {'vtkClass': 'vtkPoints', 'name': '_points', 'numberO…"
      ]
     },
     "metadata": {},
     "output_type": "display_data"
    },
    {
     "data": {
      "application/vnd.jupyter.widget-view+json": {
       "model_id": "5a252bef24d24d8a8c1eb2220d88f910",
       "version_major": 2,
       "version_minor": 0
      },
      "text/plain": [
       "Viewer(geometries=[{'vtkClass': 'vtkPolyData', 'points': {'vtkClass': 'vtkPoints', 'name': '_points', 'numberO…"
      ]
     },
     "metadata": {},
     "output_type": "display_data"
    }
   ],
   "source": [
    "#Uncomment first line if notebook is run locally, and second line if it is run in colab\n",
    "#mesh = pv.read('results/outRoot01.3.vtk')\n",
    "mesh = pv.read('/content/drive/MyDrive/results/outRoot01.3.vtk') \n",
    "pl = pv.PlotterITK()\n",
    "pl.add_mesh(mesh, smooth_shading=True)\n",
    "pl.show(True)"
   ]
  },
  {
   "cell_type": "code",
   "execution_count": 5,
   "id": "59020571",
   "metadata": {},
   "outputs": [
    {
     "data": {
      "application/vnd.jupyter.widget-view+json": {
       "model_id": "6f330e717201461da572e1fc674a56c3",
       "version_major": 2,
       "version_minor": 0
      },
      "text/plain": [
       "Viewer(geometries=[{'vtkClass': 'vtkPolyData', 'points': {'vtkClass': 'vtkPoints', 'name': '_points', 'numberO…"
      ]
     },
     "metadata": {},
     "output_type": "display_data"
    },
    {
     "data": {
      "application/vnd.jupyter.widget-view+json": {
       "model_id": "6f330e717201461da572e1fc674a56c3",
       "version_major": 2,
       "version_minor": 0
      },
      "text/plain": [
       "Viewer(geometries=[{'vtkClass': 'vtkPolyData', 'points': {'vtkClass': 'vtkPoints', 'name': '_points', 'numberO…"
      ]
     },
     "metadata": {},
     "output_type": "display_data"
    }
   ],
   "source": [
    "# Uncomment if run in colab: The next lines remove \"E+00\" from the R-SWMS output file\n",
    "# Read in the file\n",
    "with open('/content/drive/MyDrive/results/veloci.3.vtk', 'r') as file :\n",
    "  filedata = file.read()\n",
    "# Replace the target string\n",
    "filedata = filedata.replace('0.0000E+00', '0.0000')\n",
    "filedata = filedata.replace('E+00', ' ')\n",
    "# Write the file out again\n",
    "with open('/content/drive/MyDrive/results/veloci.3_.vtk', 'w') as file:\n",
    "  file.write(filedata)\n",
    "\n",
    "#Uncomment first line if notebook is run locally, and second line if it is run in colab\n",
    "#mesh = pv.read('results/veloci.3.vtk')  \n",
    "mesh = pv.read('/content/drive/MyDrive/results/veloci.3_.vtk') \n",
    "pl = pv.PlotterITK()\n",
    "pl.add_mesh(mesh, smooth_shading=True)\n",
    "pl.show(True)"
   ]
  },
  {
   "cell_type": "code",
   "execution_count": 6,
   "id": "1b40235d",
   "metadata": {},
   "outputs": [
    {
     "data": {
      "image/png": "[encoded data removed]",
      "text/plain": [
       "<Figure size 432x288 with 1 Axes>"
      ]
     },
     "metadata": {
      "needs_background": "light"
     },
     "output_type": "display_data"
    }
   ],
   "source": [
    "#Uncomment first line if notebook is run locally, and second line if it is run in colab\n",
    "#path=\"results/\"; f=\"transpiration\"\n",
    "path=\"/content/drive/MyDrive/results/\"; f=\"transpiration\"\n",
    "data = np.loadtxt(path+f,delimiter=';')  \n",
    "t_ = data[0,data[0,:]<=3] \n",
    "a_ = data[1,data[0,:]<=3]\n",
    "plt.plot(t_,a_, label = f, linewidth = 1.5, alpha = 1)\n",
    "plt.show()"
   ]
  },
  {
   "cell_type": "code",
   "execution_count": null,
   "id": "b44922ee",
   "metadata": {},
   "outputs": [],
   "source": []
  }
 ],
 "metadata": {
  "kernelspec": {
   "display_name": "Python 3 (ipykernel)",
   "language": "python",
   "name": "python3"
  },
  "language_info": {
   "codemirror_mode": {
    "name": "ipython",
    "version": 3
   },
   "file_extension": ".py",
   "mimetype": "text/x-python",
   "name": "python",
   "nbconvert_exporter": "python",
   "pygments_lexer": "ipython3",
   "version": "3.9.12"
  }
 },
 "nbformat": 4,
 "nbformat_minor": 5
}
