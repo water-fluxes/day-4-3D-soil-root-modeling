{
 "cells": [
  {
   "cell_type": "code",
   "execution_count": 1,
   "id": "daee7cae",
   "metadata": {},
   "outputs": [],
   "source": [
    "# Uncomment the commands below to install on colab if necessary (with magic commands)\n",
    "#!apt-get install vtk python-vtk\n",
    "#%pip install pyvista\n",
    "#%pip install itkwidgets\n",
    "#%pip uninstall matplotlib\n",
    "#%pip install matplotlib==3.1.3"
   ]
  },
  {
   "cell_type": "code",
   "execution_count": 2,
   "id": "9b424231",
   "metadata": {},
   "outputs": [],
   "source": [
    "import numpy as np\n",
    "import matplotlib.pyplot as plt\n",
    "import pyvista as pv\n",
    "from itkwidgets import view\n",
    "import vtk"
   ]
  },
  {
   "cell_type": "code",
   "execution_count": 2,
   "id": "1c5e3f04",
   "metadata": {},
   "outputs": [],
   "source": [
    "# uncomment if this notebook is run in colab to enable external widgets:\n",
    "#from google.colab import output\n",
    "#output.enable_custom_widget_manager()\n",
    "# uncomment to mount google drive (and access own files stored there)\n",
    "#from google.colab import drive\n",
    "#drive.mount('/content/drive')"
   ]
  },
  {
   "cell_type": "code",
   "execution_count": 3,
   "id": "8893a5b8",
   "metadata": {},
   "outputs": [
    {
     "data": {
      "application/vnd.jupyter.widget-view+json": {
       "model_id": "5a252bef24d24d8a8c1eb2220d88f910",
       "version_major": 2,
       "version_minor": 0
      },
      "text/plain": [
       "Viewer(geometries=[{'vtkClass': 'vtkPolyData', 'points': {'vtkClass': 'vtkPoints', 'name': '_points', 'numberO…"
      ]
     },
     "metadata": {},
     "output_type": "display_data"
    },
    {
     "data": {
      "application/vnd.jupyter.widget-view+json": {
       "model_id": "5a252bef24d24d8a8c1eb2220d88f910",
       "version_major": 2,
       "version_minor": 0
      },
      "text/plain": [
       "Viewer(geometries=[{'vtkClass': 'vtkPolyData', 'points': {'vtkClass': 'vtkPoints', 'name': '_points', 'numberO…"
      ]
     },
     "metadata": {},
     "output_type": "display_data"
    }
   ],
   "source": [
    "#Uncomment first line if notebook is run locally, and second line if it is run in colab\n",
    "mesh = pv.read('results/outRoot01.3.vtk')\n",
    "#mesh = pv.read('/content/drive/MyDrive/results/outRoot01.3.vtk') \n",
    "pl = pv.PlotterITK()\n",
    "pl.add_mesh(mesh, smooth_shading=True)\n",
    "pl.show(True)"
   ]
  },
  {
   "cell_type": "code",
   "execution_count": 5,
   "id": "59020571",
   "metadata": {},
   "outputs": [
    {
     "data": {
      "application/vnd.jupyter.widget-view+json": {
       "model_id": "6f330e717201461da572e1fc674a56c3",
       "version_major": 2,
       "version_minor": 0
      },
      "text/plain": [
       "Viewer(geometries=[{'vtkClass': 'vtkPolyData', 'points': {'vtkClass': 'vtkPoints', 'name': '_points', 'numberO…"
      ]
     },
     "metadata": {},
     "output_type": "display_data"
    },
    {
     "data": {
      "application/vnd.jupyter.widget-view+json": {
       "model_id": "6f330e717201461da572e1fc674a56c3",
       "version_major": 2,
       "version_minor": 0
      },
      "text/plain": [
       "Viewer(geometries=[{'vtkClass': 'vtkPolyData', 'points': {'vtkClass': 'vtkPoints', 'name': '_points', 'numberO…"
      ]
     },
     "metadata": {},
     "output_type": "display_data"
    }
   ],
   "source": [
    "# Uncomment if run in colab: The next lines remove \"E+00\" from the R-SWMS output file\n",
    "# Read in the file\n",
    "#with open('/content/drive/MyDrive/results/veloci.3.vtk', 'r') as file :\n",
    "#  filedata = file.read()\n",
    "# Replace the target string\n",
    "#filedata = filedata.replace('0.0000E+00', '0.0000')\n",
    "#filedata = filedata.replace('E+00', ' ')\n",
    "# Write the file out again\n",
    "#with open('/content/drive/MyDrive/results/veloci.3_.vtk', 'w') as file:\n",
    "#  file.write(filedata)\n",
    "\n",
    "#Uncomment first line if notebook is run locally, and second line if it is run in colab\n",
    "mesh = pv.read('results/veloci.3.vtk')  \n",
    "#mesh = pv.read('/content/drive/MyDrive/results/veloci.3_.vtk') \n",
    "pl = pv.PlotterITK()\n",
    "pl.add_mesh(mesh, smooth_shading=True)\n",
    "pl.show(True)"
   ]
  },
  {
   "cell_type": "code",
   "execution_count": 4,
   "id": "1b40235d",
   "metadata": {},
   "outputs": [
    {
     "data": {
      "image/png": "[encoded data removed]",
      "text/plain": [
       "<Figure size 432x288 with 1 Axes>"
      ]
     },
     "metadata": {
      "needs_background": "light"
     },
     "output_type": "display_data"
    }
   ],
   "source": [
    "#Uncomment first line if notebook is run locally, and second line if it is run in colab\n",
    "path=\"results/\"; f=\"log_without_headers.txt\"\n",
    "#path=\"/content/drive/MyDrive/results/\"; f=\"transpiration\"\n",
    "data, H_collar = np.array_split(np.loadtxt(path+f, dtype=str), [-1], axis=1)\n",
    "H_collar.flatten().tolist(); H_collar=np.array(H_collar,dtype=float)\n",
    "\n",
    "data, soil_lim_nodes = np.array_split(data,[-1], axis=1)\n",
    "soil_lim_nodes.flatten().tolist(); soil_lim_nodes=np.array(soil_lim_nodes,dtype=float)\n",
    "\n",
    "data, sAvg = np.array_split(data,[-1], axis=1)\n",
    "sAvg.flatten().tolist(); sAvg=np.array(sAvg,dtype=float)\n",
    "\n",
    "data, Tact = np.array_split(data,[-1], axis=1)\n",
    "Tact.flatten().tolist(); Tact=np.array(Tact,dtype=float)\n",
    "\n",
    "data, Tpot = np.array_split(data,[-1], axis=1)\n",
    "Tpot.flatten().tolist(); Tpot=np.array(Tpot,dtype=float)\n",
    "time=data.flatten().tolist(); time=np.array(time,dtype=float)\n",
    "\n",
    "\n",
    "plt.plot(time,Tact, linewidth = 1.5)\n",
    "plt.show()"
   ]
  },
  {
   "cell_type": "code",
   "execution_count": null,
   "id": "b44922ee",
   "metadata": {},
   "outputs": [],
   "source": []
  }
 ],
 "metadata": {
  "kernelspec": {
   "display_name": "Python 3 (ipykernel)",
   "language": "python",
   "name": "python3"
  },
  "language_info": {
   "codemirror_mode": {
    "name": "ipython",
    "version": 3
   },
   "file_extension": ".py",
   "mimetype": "text/x-python",
   "name": "python",
   "nbconvert_exporter": "python",
   "pygments_lexer": "ipython3",
   "version": "3.9.12"
  }
 },
 "nbformat": 4,
 "nbformat_minor": 5
}
